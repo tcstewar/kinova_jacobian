{
 "cells": [
  {
   "cell_type": "code",
   "execution_count": 4,
   "metadata": {
    "collapsed": false
   },
   "outputs": [],
   "source": [
    "import nengo\n",
    "import numpy as np\n",
    "\n",
    "f = open('Jaco-Output.txt')\n",
    "lines = f.readlines()\n",
    "f.close()\n",
    "    "
   ]
  },
  {
   "cell_type": "code",
   "execution_count": 10,
   "metadata": {
    "collapsed": false
   },
   "outputs": [],
   "source": [
    "inputs = np.array([[float(x) for x in line.strip().split(' ')] for line in lines[::2]])\n",
    "outputs = np.array([[float(x) for x in line.strip().split(' ')] for line in lines[1::2]])"
   ]
  },
  {
   "cell_type": "code",
   "execution_count": 11,
   "metadata": {
    "collapsed": false
   },
   "outputs": [
    {
     "data": {
      "text/plain": [
       "array([[  3.80166600e+00,  -2.87334000e-01,  -2.07875000e-01, ...,\n",
       "          5.20636000e-01,   1.41593500e+00,  -3.76730000e-02],\n",
       "       [  3.84304900e+00,  -2.87246000e-01,  -2.07841000e-01, ...,\n",
       "          5.20733000e-01,   1.41594600e+00,  -3.76730000e-02],\n",
       "       [  3.87323200e+00,  -2.81564000e-01,  -2.06492000e-01, ...,\n",
       "          5.28153000e-01,   1.41628400e+00,  -3.76730000e-02],\n",
       "       ..., \n",
       "       [  1.54240769e+02,   8.54690000e-01,   6.99645000e-01, ...,\n",
       "          1.08312750e+01,   6.73911000e-01,   8.19502000e-01],\n",
       "       [  1.54280748e+02,   8.54714000e-01,   6.99680000e-01, ...,\n",
       "          1.08312750e+01,   6.73911000e-01,   8.19502000e-01],\n",
       "       [  1.54321485e+02,   8.54722000e-01,   6.99683000e-01, ...,\n",
       "          1.08312750e+01,   6.73911000e-01,   8.19502000e-01]])"
      ]
     },
     "execution_count": 11,
     "metadata": {},
     "output_type": "execute_result"
    }
   ],
   "source": [
    "inputs"
   ]
  },
  {
   "cell_type": "code",
   "execution_count": null,
   "metadata": {
    "collapsed": true
   },
   "outputs": [],
   "source": []
  }
 ],
 "metadata": {
  "kernelspec": {
   "display_name": "Python 2",
   "language": "python",
   "name": "python2"
  },
  "language_info": {
   "codemirror_mode": {
    "name": "ipython",
    "version": 2
   },
   "file_extension": ".py",
   "mimetype": "text/x-python",
   "name": "python",
   "nbconvert_exporter": "python",
   "pygments_lexer": "ipython2",
   "version": "2.7.6"
  }
 },
 "nbformat": 4,
 "nbformat_minor": 0
}
